{
 "cells": [
  {
   "cell_type": "code",
   "execution_count": 1,
   "metadata": {},
   "outputs": [
    {
     "name": "stdout",
     "output_type": "stream",
     "text": [
      "song instrument separator\n"
     ]
    }
   ],
   "source": [
    "print('song instrument separator')"
   ]
  },
  {
   "cell_type": "code",
   "execution_count": 2,
   "metadata": {},
   "outputs": [],
   "source": [
    "# pip install torch torchaudio"
   ]
  },
  {
   "cell_type": "code",
   "execution_count": 3,
   "metadata": {},
   "outputs": [],
   "source": [
    "# pip install demucs"
   ]
  },
  {
   "cell_type": "code",
   "execution_count": 4,
   "metadata": {},
   "outputs": [],
   "source": [
    "# pip install soundfile"
   ]
  },
  {
   "cell_type": "code",
   "execution_count": 5,
   "metadata": {},
   "outputs": [],
   "source": [
    "## Put the following on the terminal for IOS.\n",
    "\n",
    "# /bin/bash -c \"$(curl -fsSL https://raw.githubusercontent.com/Homebrew/install/HEAD/install.sh)\""
   ]
  },
  {
   "cell_type": "code",
   "execution_count": 6,
   "metadata": {},
   "outputs": [],
   "source": [
    "## Put the following on the terminal for IOS.\n",
    "\n",
    "# brew install ffmpeg"
   ]
  },
  {
   "cell_type": "code",
   "execution_count": 7,
   "metadata": {},
   "outputs": [
    {
     "name": "stderr",
     "output_type": "stream",
     "text": [
      "/var/folders/fp/ckdg0sb532b68c3s61_zwrk40000gn/T/ipykernel_5828/3214419697.py:7: UserWarning: torchaudio._backend.set_audio_backend has been deprecated. With dispatcher enabled, this function is no-op. You can remove the function call.\n",
      "  torchaudio.set_audio_backend(\"ffmpeg\")\n"
     ]
    },
    {
     "name": "stdout",
     "output_type": "stream",
     "text": [
      "Selected model is a bag of 1 models. You will see that many progress bars per track.\n",
      "Separated tracks will be stored in /Users/berkaydiril/Desktop/FreePractise/separated_tracks/htdemucs\n",
      "Separating track /Users/berkaydiril/Desktop/FreePractise/yazinenguzeli.mp3\n"
     ]
    },
    {
     "name": "stderr",
     "output_type": "stream",
     "text": [
      "100%|██████████████████████████████████████████████████████████████████████| 146.25/146.25 [01:04<00:00,  2.27seconds/s]\n"
     ]
    },
    {
     "name": "stdout",
     "output_type": "stream",
     "text": [
      "Instruments separated and saved in 'separated_tracks' directory.\n"
     ]
    }
   ],
   "source": [
    "import os\n",
    "import torchaudio\n",
    "import soundfile as sf\n",
    "from demucs.separate import main\n",
    "\n",
    "# Enable Torchaudio's FFmpeg backend\n",
    "torchaudio.set_audio_backend(\"ffmpeg\")\n",
    "\n",
    "# Path to the MP3 file\n",
    "input_path = '/Users/berkaydiril/Desktop/FreePractise/yazinenguzeli.mp3' # Change this by your song path !!\n",
    "\n",
    "# Output directory\n",
    "output_dir = 'separated_tracks'\n",
    "\n",
    "# Redefine the save_audio function\n",
    "def save_audio(wav, path, samplerate=44100, bitrate=320, clip=True, bits_per_sample=16, as_float=False, preset='medium'):\n",
    "    \"\"\"\n",
    "    Save audio data to a file in a specified format and settings.\n",
    "\n",
    "    Parameters:\n",
    "    wav (np.array): NumPy array representing the audio data to be saved.\n",
    "    path (str): File path where the audio will be saved.\n",
    "    samplerate (int, optional): The sampling rate of the audio. Default is 44100.\n",
    "    bitrate (int, optional): The bitrate of the audio file, which determines its quality and size. Default is 320.\n",
    "    clip (bool, optional): Whether to clip the audio when it exceeds a certain threshold. Default is True.\n",
    "    bits_per_sample (int, optional): The number of bits per sample used to represent audio data. Default is 16.\n",
    "    as_float (bool, optional): Whether to save the audio data as floats or integers. Default is False.\n",
    "    preset (str, optional): The preset used during encoding, balancing quality and performance. Default is 'medium'.\n",
    "    \"\"\"\n",
    "    suffix = os.path.splitext(path)[-1]\n",
    "    if suffix == \".wav\":\n",
    "        # Save as WAV file\n",
    "        sf.write(path, wav.T, samplerate, subtype='PCM_16')\n",
    "    elif suffix == \".flac\":\n",
    "        # Save as FLAC file\n",
    "        sf.write(path, wav.T, samplerate, format='FLAC', subtype='PCM_16')\n",
    "    else:\n",
    "        raise ValueError(f\"Unsupported format: {suffix}\")\n",
    "\n",
    "# Run the Demucs separation command\n",
    "os.makedirs(output_dir, exist_ok=True)\n",
    "main([\"-n\", \"htdemucs\", input_path, \"-o\", output_dir])\n",
    "\n",
    "print(f\"Instruments separated and saved in '{output_dir}' directory.\")\n"
   ]
  },
  {
   "cell_type": "code",
   "execution_count": 8,
   "metadata": {},
   "outputs": [
    {
     "name": "stdout",
     "output_type": "stream",
     "text": [
      "thank you for your time\n"
     ]
    }
   ],
   "source": [
    "print('thank you for your time')"
   ]
  }
 ],
 "metadata": {
  "kernelspec": {
   "display_name": "Python 3",
   "language": "python",
   "name": "python3"
  },
  "language_info": {
   "codemirror_mode": {
    "name": "ipython",
    "version": 3
   },
   "file_extension": ".py",
   "mimetype": "text/x-python",
   "name": "python",
   "nbconvert_exporter": "python",
   "pygments_lexer": "ipython3",
   "version": "3.9.6"
  }
 },
 "nbformat": 4,
 "nbformat_minor": 2
}
